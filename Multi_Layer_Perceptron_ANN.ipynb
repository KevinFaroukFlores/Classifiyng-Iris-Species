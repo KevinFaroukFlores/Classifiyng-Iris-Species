{
  "nbformat": 4,
  "nbformat_minor": 0,
  "metadata": {
    "colab": {
      "name": "Multi_Layer_Perceptron_ANN.ipynb",
      "provenance": []
    },
    "kernelspec": {
      "name": "python3",
      "display_name": "Python 3"
    },
    "accelerator": "GPU"
  },
  "cells": [
    {
      "cell_type": "markdown",
      "metadata": {
        "id": "Wwaz8BKPiG5q"
      },
      "source": [
        "# CLASSIFYING IRIS SPECIES"
      ]
    },
    {
      "cell_type": "markdown",
      "metadata": {
        "id": "yAJ_KOxKXzeL"
      },
      "source": [
        "# Meet the Data \n",
        "The data we will use for this example is the Iris dataset, a classical dataset in machine\n",
        "learning and statistics. It is included in scikit-learn in the datasets module. We\n",
        "can load it by calling the load_iris function:"
      ]
    },
    {
      "cell_type": "code",
      "metadata": {
        "id": "lvGIj0beX-2n"
      },
      "source": [
        "from sklearn.datasets import load_iris\n",
        "iris_dataset = load_iris()"
      ],
      "execution_count": 45,
      "outputs": []
    },
    {
      "cell_type": "markdown",
      "metadata": {
        "id": "Ev4SpeT3YETC"
      },
      "source": [
        "The iris object that is returned by load_iris is a Bunch object, which is very similar\n",
        "to a dictionary. It contains keys and values:"
      ]
    },
    {
      "cell_type": "code",
      "metadata": {
        "id": "OoS3PiRSYJ1K",
        "outputId": "520f696d-b978-4c3e-d044-d78fae9aa8d6",
        "colab": {
          "base_uri": "https://localhost:8080/",
          "height": 51
        }
      },
      "source": [
        "print(\"Keys of iris_dataset: \\n{}\".format(iris_dataset.keys()))"
      ],
      "execution_count": 46,
      "outputs": [
        {
          "output_type": "stream",
          "text": [
            "Keys of iris_dataset: \n",
            "dict_keys(['data', 'target', 'target_names', 'DESCR', 'feature_names', 'filename'])\n"
          ],
          "name": "stdout"
        }
      ]
    },
    {
      "cell_type": "markdown",
      "metadata": {
        "id": "zOTtW474YoSq"
      },
      "source": [
        "The value of the key DESCR is a short description of the dataset. We show the begin‐\n",
        "ning of the description here (feel free to look up the rest yourself):"
      ]
    },
    {
      "cell_type": "code",
      "metadata": {
        "id": "MNrPMoeoYyUe",
        "outputId": "b1274bdf-5669-4769-eef2-c163d8b30076",
        "colab": {
          "base_uri": "https://localhost:8080/",
          "height": 187
        }
      },
      "source": [
        "print(iris_dataset['DESCR'][:193] + \"\\n...\")"
      ],
      "execution_count": 47,
      "outputs": [
        {
          "output_type": "stream",
          "text": [
            ".. _iris_dataset:\n",
            "\n",
            "Iris plants dataset\n",
            "--------------------\n",
            "\n",
            "**Data Set Characteristics:**\n",
            "\n",
            "    :Number of Instances: 150 (50 in each of three classes)\n",
            "    :Number of Attributes: 4 numeric, pre\n",
            "...\n"
          ],
          "name": "stdout"
        }
      ]
    },
    {
      "cell_type": "markdown",
      "metadata": {
        "id": "WV3vNzm0Y4pb"
      },
      "source": [
        "The value of the key target_names is an array of strings, containing the species of\n",
        "flower that we want to predict:"
      ]
    },
    {
      "cell_type": "code",
      "metadata": {
        "id": "4KffIRfZY76t",
        "outputId": "c0a7b285-a458-4ae8-b18c-541937fa7904",
        "colab": {
          "base_uri": "https://localhost:8080/",
          "height": 34
        }
      },
      "source": [
        "print(\"Target names: {}\".format(iris_dataset['target_names']))"
      ],
      "execution_count": 48,
      "outputs": [
        {
          "output_type": "stream",
          "text": [
            "Target names: ['setosa' 'versicolor' 'virginica']\n"
          ],
          "name": "stdout"
        }
      ]
    },
    {
      "cell_type": "markdown",
      "metadata": {
        "id": "Xdr06kwGY_m4"
      },
      "source": [
        "The value of feature_names is a list of strings, giving the description of each feature:"
      ]
    },
    {
      "cell_type": "code",
      "metadata": {
        "id": "8bLCu9BQZBhk",
        "outputId": "80b63443-5820-41a1-bc13-a5949e3ea8af",
        "colab": {
          "base_uri": "https://localhost:8080/",
          "height": 51
        }
      },
      "source": [
        "print(\"Feature names: \\n{}\".format(iris_dataset['feature_names']))"
      ],
      "execution_count": 49,
      "outputs": [
        {
          "output_type": "stream",
          "text": [
            "Feature names: \n",
            "['sepal length (cm)', 'sepal width (cm)', 'petal length (cm)', 'petal width (cm)']\n"
          ],
          "name": "stdout"
        }
      ]
    },
    {
      "cell_type": "markdown",
      "metadata": {
        "id": "fBltwnUnZG18"
      },
      "source": [
        "The data itself is contained in the target and data fields. data contains the numeric\n",
        "measurements of sepal length, sepal width, petal length, and petal width in a NumPy\n",
        "array:"
      ]
    },
    {
      "cell_type": "code",
      "metadata": {
        "id": "oBq-YbKDZJri",
        "outputId": "11ea75fd-62da-4ed5-cf24-ecf83a52003d",
        "colab": {
          "base_uri": "https://localhost:8080/",
          "height": 34
        }
      },
      "source": [
        "print(\"Type of data: {}\".format(type(iris_dataset['data'])))"
      ],
      "execution_count": 50,
      "outputs": [
        {
          "output_type": "stream",
          "text": [
            "Type of data: <class 'numpy.ndarray'>\n"
          ],
          "name": "stdout"
        }
      ]
    },
    {
      "cell_type": "markdown",
      "metadata": {
        "id": "LX1HhARzZQ6r"
      },
      "source": [
        "The rows in the data array correspond to flowers, while the columns represent the\n",
        "four measurements that were taken for each flower:"
      ]
    },
    {
      "cell_type": "code",
      "metadata": {
        "id": "X3gfcR-BZTaH",
        "outputId": "058e2102-6258-451b-fb9b-80ee28da63d1",
        "colab": {
          "base_uri": "https://localhost:8080/",
          "height": 34
        }
      },
      "source": [
        "print(\"Shape of data: {}\".format(iris_dataset['data'].shape))"
      ],
      "execution_count": 51,
      "outputs": [
        {
          "output_type": "stream",
          "text": [
            "Shape of data: (150, 4)\n"
          ],
          "name": "stdout"
        }
      ]
    },
    {
      "cell_type": "markdown",
      "metadata": {
        "id": "HByK_JfXZV9Y"
      },
      "source": [
        "We see that the array contains measurements for 150 different flowers. Remember\n",
        "that the individual items are called samples in machine learning, and their properties\n",
        "are called features. The shape of the data array is the number of samples multiplied by\n",
        "the number of features. This is a convention in scikit-learn, and your data will\n",
        "always be assumed to be in this shape. Here are the feature values for the first five\n",
        "samples:"
      ]
    },
    {
      "cell_type": "code",
      "metadata": {
        "id": "QldDv4afZYaH",
        "outputId": "698ce917-e2a2-423f-e5dc-a3fd65813326",
        "colab": {
          "base_uri": "https://localhost:8080/",
          "height": 119
        }
      },
      "source": [
        "print(\"First five columns of data:\\n{}\".format(iris_dataset['data'][:5]))"
      ],
      "execution_count": 52,
      "outputs": [
        {
          "output_type": "stream",
          "text": [
            "First five columns of data:\n",
            "[[5.1 3.5 1.4 0.2]\n",
            " [4.9 3.  1.4 0.2]\n",
            " [4.7 3.2 1.3 0.2]\n",
            " [4.6 3.1 1.5 0.2]\n",
            " [5.  3.6 1.4 0.2]]\n"
          ],
          "name": "stdout"
        }
      ]
    },
    {
      "cell_type": "markdown",
      "metadata": {
        "id": "RvA-jb5bZcLu"
      },
      "source": [
        "From this data, we can see that all of the first five flowers have a petal width of 0.2 cm\n",
        "and that the first flower has the longest sepal, at 5.1 cm.\n",
        "The target array contains the species of each of the flowers that were measured, also\n",
        "as a NumPy array:"
      ]
    },
    {
      "cell_type": "code",
      "metadata": {
        "id": "r7dT2PdiZk_B",
        "outputId": "3075bbaf-3e20-410d-d78a-f95eeed2f8b9",
        "colab": {
          "base_uri": "https://localhost:8080/",
          "height": 34
        }
      },
      "source": [
        "print(\"Type of target: {}\".format(type(iris_dataset['target'])))"
      ],
      "execution_count": 53,
      "outputs": [
        {
          "output_type": "stream",
          "text": [
            "Type of target: <class 'numpy.ndarray'>\n"
          ],
          "name": "stdout"
        }
      ]
    },
    {
      "cell_type": "markdown",
      "metadata": {
        "id": "RLgoNQJRZoJr"
      },
      "source": [
        "Target is a one-dimensional array, with one entry per flower:"
      ]
    },
    {
      "cell_type": "code",
      "metadata": {
        "id": "4AxFX8GuZuvd",
        "outputId": "4234e2a6-0fb1-43c5-c58a-18bca7070c70",
        "colab": {
          "base_uri": "https://localhost:8080/",
          "height": 34
        }
      },
      "source": [
        "print(\"Shape of target: {}\".format(iris_dataset['target'].shape))"
      ],
      "execution_count": 54,
      "outputs": [
        {
          "output_type": "stream",
          "text": [
            "Shape of target: (150,)\n"
          ],
          "name": "stdout"
        }
      ]
    },
    {
      "cell_type": "markdown",
      "metadata": {
        "id": "pHh-7GCFZx9R"
      },
      "source": [
        "The species are encoded as integers from 0 to 2:"
      ]
    },
    {
      "cell_type": "code",
      "metadata": {
        "id": "F91XNN3oZ-qN",
        "outputId": "964b6784-6585-4a7d-dcd2-0baaed56f109",
        "colab": {
          "base_uri": "https://localhost:8080/",
          "height": 119
        }
      },
      "source": [
        "print(\"Target:\\n{}\".format(iris_dataset['target']))"
      ],
      "execution_count": 55,
      "outputs": [
        {
          "output_type": "stream",
          "text": [
            "Target:\n",
            "[0 0 0 0 0 0 0 0 0 0 0 0 0 0 0 0 0 0 0 0 0 0 0 0 0 0 0 0 0 0 0 0 0 0 0 0 0\n",
            " 0 0 0 0 0 0 0 0 0 0 0 0 0 1 1 1 1 1 1 1 1 1 1 1 1 1 1 1 1 1 1 1 1 1 1 1 1\n",
            " 1 1 1 1 1 1 1 1 1 1 1 1 1 1 1 1 1 1 1 1 1 1 1 1 1 1 2 2 2 2 2 2 2 2 2 2 2\n",
            " 2 2 2 2 2 2 2 2 2 2 2 2 2 2 2 2 2 2 2 2 2 2 2 2 2 2 2 2 2 2 2 2 2 2 2 2 2\n",
            " 2 2]\n"
          ],
          "name": "stdout"
        }
      ]
    },
    {
      "cell_type": "markdown",
      "metadata": {
        "id": "Oqj7sPjLaBpy"
      },
      "source": [
        "The meanings of the numbers are given by the iris['target_names'] array:\n",
        "0 means *setosa*, 1 means *versicolor*, and 2 means *virginica*."
      ]
    },
    {
      "cell_type": "markdown",
      "metadata": {
        "id": "8BIBhluyaTWC"
      },
      "source": [
        "# Measuring Success: Training and Testing Data"
      ]
    },
    {
      "cell_type": "markdown",
      "metadata": {
        "id": "bK9pAD-CLnax"
      },
      "source": [
        "We want to build a machine learning model from this data that can predict the spe‐\n",
        "cies of iris for a new set of measurements. But before we can apply our model to new\n",
        "measurements, we need to know whether it actually works—that is, whether we\n",
        "should trust its predictions."
      ]
    },
    {
      "cell_type": "code",
      "metadata": {
        "id": "ii2Ro18-MWd7"
      },
      "source": [
        "from sklearn.model_selection import train_test_split\n",
        "X_train, X_test, y_train, y_test = train_test_split(\n",
        "iris_dataset['data'], iris_dataset['target'], random_state=0)"
      ],
      "execution_count": 56,
      "outputs": []
    },
    {
      "cell_type": "markdown",
      "metadata": {
        "id": "-HCpqDuVMbFG"
      },
      "source": [
        "Before making the split, the train_test_split function shuffles the dataset using a\n",
        "pseudorandom number generator. If we just took the last 25% of the data as a test set,\n",
        "all the data points would have the label 2, as the data points are sorted by the label\n",
        "(see the output for iris['target'] shown earlier). Using a test set containing only\n",
        "one of the three classes would not tell us much about how well our model generalizes,\n",
        "so we shuffle our data to make sure the test data contains data from all classes."
      ]
    },
    {
      "cell_type": "code",
      "metadata": {
        "id": "_N1IzckRMeaH",
        "outputId": "6a2797dc-54a3-41b4-dd08-60eb11db2bc7",
        "colab": {
          "base_uri": "https://localhost:8080/",
          "height": 51
        }
      },
      "source": [
        "print(\"X_train shape: {}\".format(X_train.shape))\n",
        "print(\"y_train shape: {}\".format(y_train.shape))"
      ],
      "execution_count": 57,
      "outputs": [
        {
          "output_type": "stream",
          "text": [
            "X_train shape: (112, 4)\n",
            "y_train shape: (112,)\n"
          ],
          "name": "stdout"
        }
      ]
    },
    {
      "cell_type": "code",
      "metadata": {
        "id": "UusR_P3jMjf5",
        "outputId": "8e871f0a-d9ba-40e4-807e-792b1925609f",
        "colab": {
          "base_uri": "https://localhost:8080/",
          "height": 51
        }
      },
      "source": [
        "print(\"X_test shape: {}\".format(X_test.shape))\n",
        "print(\"y_test shape: {}\".format(y_test.shape))"
      ],
      "execution_count": 58,
      "outputs": [
        {
          "output_type": "stream",
          "text": [
            "X_test shape: (38, 4)\n",
            "y_test shape: (38,)\n"
          ],
          "name": "stdout"
        }
      ]
    },
    {
      "cell_type": "markdown",
      "metadata": {
        "id": "XFizipK3Mtgo"
      },
      "source": [
        "# First Things First: Look at Your Data"
      ]
    },
    {
      "cell_type": "markdown",
      "metadata": {
        "id": "qIGCb3CXMzcZ"
      },
      "source": [
        "Before building a machine learning model it is often a good idea to inspect the data,\n",
        "to see if the task is easily solvable without machine learning, or if the desired infor‐\n",
        "mation might not be contained in the data.\n",
        "\n",
        "One of the best ways to inspect data is to visualize it. One way to do this is by using a\n",
        "scatter plot. A scatter plot of the data puts one feature along the x-axis and another\n",
        "along the y-axis, and draws a dot for each data point."
      ]
    },
    {
      "cell_type": "code",
      "metadata": {
        "id": "62rkZxtDM92M",
        "outputId": "f568f9fb-86d2-4a7e-b489-d1bd368cfc53",
        "colab": {
          "base_uri": "https://localhost:8080/",
          "height": 231
        }
      },
      "source": [
        "# create dataframe from data in X_train\n",
        "# label the columns using the strings in iris_dataset.feature_names\n",
        "iris_dataframe = pd.DataFrame(X_train, columns=iris_dataset.feature_names)\n",
        "# create a scatter matrix from the dataframe, color by y_train\n",
        "grr = pd.scatter_matrix(iris_dataframe, c=y_train, figsize=(15, 15), marker='o',\n",
        "hist_kwds={'bins': 20}, s=60, alpha=.8, cmap=mglearn.cm3)"
      ],
      "execution_count": 61,
      "outputs": [
        {
          "output_type": "error",
          "ename": "NameError",
          "evalue": "ignored",
          "traceback": [
            "\u001b[0;31m---------------------------------------------------------------------------\u001b[0m",
            "\u001b[0;31mNameError\u001b[0m                                 Traceback (most recent call last)",
            "\u001b[0;32m<ipython-input-61-123c196cd619>\u001b[0m in \u001b[0;36m<module>\u001b[0;34m()\u001b[0m\n\u001b[1;32m      1\u001b[0m \u001b[0;31m# create dataframe from data in X_train\u001b[0m\u001b[0;34m\u001b[0m\u001b[0;34m\u001b[0m\u001b[0;34m\u001b[0m\u001b[0m\n\u001b[1;32m      2\u001b[0m \u001b[0;31m# label the columns using the strings in iris_dataset.feature_names\u001b[0m\u001b[0;34m\u001b[0m\u001b[0;34m\u001b[0m\u001b[0;34m\u001b[0m\u001b[0m\n\u001b[0;32m----> 3\u001b[0;31m \u001b[0miris_dataframe\u001b[0m \u001b[0;34m=\u001b[0m \u001b[0mpd\u001b[0m\u001b[0;34m.\u001b[0m\u001b[0mDataFrame\u001b[0m\u001b[0;34m(\u001b[0m\u001b[0mX_train\u001b[0m\u001b[0;34m,\u001b[0m \u001b[0mcolumns\u001b[0m\u001b[0;34m=\u001b[0m\u001b[0miris_dataset\u001b[0m\u001b[0;34m.\u001b[0m\u001b[0mfeature_names\u001b[0m\u001b[0;34m)\u001b[0m\u001b[0;34m\u001b[0m\u001b[0;34m\u001b[0m\u001b[0m\n\u001b[0m\u001b[1;32m      4\u001b[0m \u001b[0;31m# create a scatter matrix from the dataframe, color by y_train\u001b[0m\u001b[0;34m\u001b[0m\u001b[0;34m\u001b[0m\u001b[0;34m\u001b[0m\u001b[0m\n\u001b[1;32m      5\u001b[0m grr = pd.scatter_matrix(iris_dataframe, c=y_train, figsize=(15, 15), marker='o',\n",
            "\u001b[0;31mNameError\u001b[0m: name 'pd' is not defined"
          ]
        }
      ]
    },
    {
      "cell_type": "markdown",
      "metadata": {
        "id": "QIfFcGwZNi6q"
      },
      "source": [
        "From the plots, we can see that the three classes seem to be relatively well separated\n",
        "using the sepal and petal measurements. This means that a machine learning model\n",
        "will likely be able to learn to separate them."
      ]
    },
    {
      "cell_type": "markdown",
      "metadata": {
        "id": "Z0vw2q4INkZq"
      },
      "source": [
        "# Building Your First Model: k-Nearest Neighbors"
      ]
    },
    {
      "cell_type": "markdown",
      "metadata": {
        "id": "6HGoTtoCNpXA"
      },
      "source": [
        "Now we can start building the actual machine learning model. There are many classi‐\n",
        "fication algorithms in scikit-learn that we could use. Here we will use a k-nearest\n",
        "neighbors classifier, which is easy to understand. Building this model only consists of\n",
        "storing the training set. To make a prediction for a new data point, the algorithm\n",
        "finds the point in the training set that is closest to the new point. Then it assigns the\n",
        "label of this training point to the new data point."
      ]
    },
    {
      "cell_type": "code",
      "metadata": {
        "id": "BqiQrPnhOGLd"
      },
      "source": [
        "from sklearn.neighbors import KNeighborsClassifier\n",
        "knn = KNeighborsClassifier(n_neighbors=1)"
      ],
      "execution_count": 62,
      "outputs": []
    },
    {
      "cell_type": "markdown",
      "metadata": {
        "id": "p_Io9MchOPDY"
      },
      "source": [
        "The knn object encapsulates the algorithm that will be used to build the model from\n",
        "the training data, as well the algorithm to make predictions on new data points. It will\n",
        "also hold the information that the algorithm has extracted from the training data. In\n",
        "the case of KNeighborsClassifier, it will just store the training set.\n",
        "\n",
        "To build the model on the training set, we call the fit method of the knn object,\n",
        "which takes as arguments the NumPy array X_train containing the training data and\n",
        "the NumPy array y_train of the corresponding training labels:"
      ]
    },
    {
      "cell_type": "code",
      "metadata": {
        "id": "i-tP3c8MOWZN",
        "outputId": "a6d059fe-613d-4be1-d0b8-560fffddff8b",
        "colab": {
          "base_uri": "https://localhost:8080/",
          "height": 68
        }
      },
      "source": [
        "knn.fit(X_train, y_train)"
      ],
      "execution_count": 63,
      "outputs": [
        {
          "output_type": "execute_result",
          "data": {
            "text/plain": [
              "KNeighborsClassifier(algorithm='auto', leaf_size=30, metric='minkowski',\n",
              "                     metric_params=None, n_jobs=None, n_neighbors=1, p=2,\n",
              "                     weights='uniform')"
            ]
          },
          "metadata": {
            "tags": []
          },
          "execution_count": 63
        }
      ]
    },
    {
      "cell_type": "markdown",
      "metadata": {
        "id": "BEYnb6UDOaTY"
      },
      "source": [
        "The fit method returns the knn object itself (and modifies it in place), so we get a\n",
        "string representation of our classifier. The representation shows us which parameters\n",
        "were used in creating the model. Nearly all of them are the default values, but you can\n",
        "also find n_neighbors=1, which is the parameter that we passed."
      ]
    },
    {
      "cell_type": "markdown",
      "metadata": {
        "id": "Ma88K6JkOdxl"
      },
      "source": [
        "# Making Predictions"
      ]
    },
    {
      "cell_type": "markdown",
      "metadata": {
        "id": "CV4NSqnxOg0I"
      },
      "source": [
        "We can now make predictions using this model on new data for which we might not\n",
        "know the correct labels. Imagine we found an iris in the wild with a sepal length of\n",
        "5 cm, a sepal width of 2.9 cm, a petal length of 1 cm, and a petal width of 0.2 cm.\n",
        "What species of iris would this be? We can put this data into a NumPy array, again by\n",
        "calculating the shape—that is, the number of samples (1) multiplied by the number of\n",
        "features (4):"
      ]
    },
    {
      "cell_type": "code",
      "metadata": {
        "id": "FqhB0mhzOlId",
        "outputId": "196f22cd-3529-4f1d-859f-744153edc63f",
        "colab": {
          "base_uri": "https://localhost:8080/",
          "height": 180
        }
      },
      "source": [
        "X_new = np.array([[5, 2.9, 1, 0.2]])\n",
        "print(\"X_new.shape: {}\".format(X_new.shape))"
      ],
      "execution_count": 64,
      "outputs": [
        {
          "output_type": "error",
          "ename": "NameError",
          "evalue": "ignored",
          "traceback": [
            "\u001b[0;31m---------------------------------------------------------------------------\u001b[0m",
            "\u001b[0;31mNameError\u001b[0m                                 Traceback (most recent call last)",
            "\u001b[0;32m<ipython-input-64-2c9ccf5599e4>\u001b[0m in \u001b[0;36m<module>\u001b[0;34m()\u001b[0m\n\u001b[0;32m----> 1\u001b[0;31m \u001b[0mX_new\u001b[0m \u001b[0;34m=\u001b[0m \u001b[0mnp\u001b[0m\u001b[0;34m.\u001b[0m\u001b[0marray\u001b[0m\u001b[0;34m(\u001b[0m\u001b[0;34m[\u001b[0m\u001b[0;34m[\u001b[0m\u001b[0;36m5\u001b[0m\u001b[0;34m,\u001b[0m \u001b[0;36m2.9\u001b[0m\u001b[0;34m,\u001b[0m \u001b[0;36m1\u001b[0m\u001b[0;34m,\u001b[0m \u001b[0;36m0.2\u001b[0m\u001b[0;34m]\u001b[0m\u001b[0;34m]\u001b[0m\u001b[0;34m)\u001b[0m\u001b[0;34m\u001b[0m\u001b[0;34m\u001b[0m\u001b[0m\n\u001b[0m\u001b[1;32m      2\u001b[0m \u001b[0mprint\u001b[0m\u001b[0;34m(\u001b[0m\u001b[0;34m\"X_new.shape: {}\"\u001b[0m\u001b[0;34m.\u001b[0m\u001b[0mformat\u001b[0m\u001b[0;34m(\u001b[0m\u001b[0mX_new\u001b[0m\u001b[0;34m.\u001b[0m\u001b[0mshape\u001b[0m\u001b[0;34m)\u001b[0m\u001b[0;34m)\u001b[0m\u001b[0;34m\u001b[0m\u001b[0;34m\u001b[0m\u001b[0m\n",
            "\u001b[0;31mNameError\u001b[0m: name 'np' is not defined"
          ]
        }
      ]
    },
    {
      "cell_type": "markdown",
      "metadata": {
        "id": "2Z9UYmO1Oryo"
      },
      "source": [
        "Note that we made the measurements of this single flower into a row in a two-\n",
        "dimensional NumPy array, as scikit-learn always expects two-dimensional arrays\n",
        "\n",
        "for the data.\n",
        "To make a prediction, we call the predict method of the knn object:"
      ]
    },
    {
      "cell_type": "code",
      "metadata": {
        "id": "MABQ-aXhOwfv",
        "outputId": "ebafd561-1ff7-45f6-ecbe-e03277c1238e",
        "colab": {
          "base_uri": "https://localhost:8080/",
          "height": 214
        }
      },
      "source": [
        "prediction = knn.predict(X_new)\n",
        "print(\"Prediction: {}\".format(prediction))\n",
        "print(\"Predicted target name: {}\".format(\n",
        "iris_dataset['target_names'][prediction]))"
      ],
      "execution_count": 65,
      "outputs": [
        {
          "output_type": "error",
          "ename": "NameError",
          "evalue": "ignored",
          "traceback": [
            "\u001b[0;31m---------------------------------------------------------------------------\u001b[0m",
            "\u001b[0;31mNameError\u001b[0m                                 Traceback (most recent call last)",
            "\u001b[0;32m<ipython-input-65-c2dc683a5d17>\u001b[0m in \u001b[0;36m<module>\u001b[0;34m()\u001b[0m\n\u001b[0;32m----> 1\u001b[0;31m \u001b[0mprediction\u001b[0m \u001b[0;34m=\u001b[0m \u001b[0mknn\u001b[0m\u001b[0;34m.\u001b[0m\u001b[0mpredict\u001b[0m\u001b[0;34m(\u001b[0m\u001b[0mX_new\u001b[0m\u001b[0;34m)\u001b[0m\u001b[0;34m\u001b[0m\u001b[0;34m\u001b[0m\u001b[0m\n\u001b[0m\u001b[1;32m      2\u001b[0m \u001b[0mprint\u001b[0m\u001b[0;34m(\u001b[0m\u001b[0;34m\"Prediction: {}\"\u001b[0m\u001b[0;34m.\u001b[0m\u001b[0mformat\u001b[0m\u001b[0;34m(\u001b[0m\u001b[0mprediction\u001b[0m\u001b[0;34m)\u001b[0m\u001b[0;34m)\u001b[0m\u001b[0;34m\u001b[0m\u001b[0;34m\u001b[0m\u001b[0m\n\u001b[1;32m      3\u001b[0m print(\"Predicted target name: {}\".format(\n\u001b[1;32m      4\u001b[0m iris_dataset['target_names'][prediction]))\n",
            "\u001b[0;31mNameError\u001b[0m: name 'X_new' is not defined"
          ]
        }
      ]
    },
    {
      "cell_type": "markdown",
      "metadata": {
        "id": "BbHw5Y2_OxbE"
      },
      "source": [
        "Our model predicts that this new iris belongs to the class 0, meaning its species is\n",
        "setosa. But how do we know whether we can trust our model? We don’t know the cor‐\n",
        "rect species of this sample, which is the whole point of building the model!"
      ]
    },
    {
      "cell_type": "markdown",
      "metadata": {
        "id": "9kDy9Ao7O41z"
      },
      "source": [
        "# Evaluating the Model"
      ]
    },
    {
      "cell_type": "markdown",
      "metadata": {
        "id": "H5pOuhIqO4v8"
      },
      "source": [
        "This is where the test set that we created earlier comes in. This data was not used to\n",
        "build the model, but we do know what the correct species is for each iris in the test\n",
        "set.\n",
        "Therefore, we can make a prediction for each iris in the test data and compare it\n",
        "against its label (the known species). We can measure how well the model works by\n",
        "computing the *accuracy*, which is the fraction of flowers for which the right species\n",
        "was predicted:"
      ]
    },
    {
      "cell_type": "code",
      "metadata": {
        "id": "QmRJME_WPGCo",
        "outputId": "a31e53c8-985d-43b5-96ac-be765fd61324",
        "colab": {
          "base_uri": "https://localhost:8080/",
          "height": 68
        }
      },
      "source": [
        "y_pred = knn.predict(X_test)\n",
        "print(\"Test set predictions:\\n {}\".format(y_pred))"
      ],
      "execution_count": 66,
      "outputs": [
        {
          "output_type": "stream",
          "text": [
            "Test set predictions:\n",
            " [2 1 0 2 0 2 0 1 1 1 2 1 1 1 1 0 1 1 0 0 2 1 0 0 2 0 0 1 1 0 2 1 0 2 2 1 0\n",
            " 2]\n"
          ],
          "name": "stdout"
        }
      ]
    },
    {
      "cell_type": "code",
      "metadata": {
        "id": "pLNY0IlwPG2A",
        "outputId": "907510de-6570-4b69-b790-bd583a27d548",
        "colab": {
          "base_uri": "https://localhost:8080/",
          "height": 163
        }
      },
      "source": [
        "print(\"Test set score: {:.2f}\".format(np.mean(y_pred == y_test)))"
      ],
      "execution_count": 67,
      "outputs": [
        {
          "output_type": "error",
          "ename": "NameError",
          "evalue": "ignored",
          "traceback": [
            "\u001b[0;31m---------------------------------------------------------------------------\u001b[0m",
            "\u001b[0;31mNameError\u001b[0m                                 Traceback (most recent call last)",
            "\u001b[0;32m<ipython-input-67-d942e0d2b963>\u001b[0m in \u001b[0;36m<module>\u001b[0;34m()\u001b[0m\n\u001b[0;32m----> 1\u001b[0;31m \u001b[0mprint\u001b[0m\u001b[0;34m(\u001b[0m\u001b[0;34m\"Test set score: {:.2f}\"\u001b[0m\u001b[0;34m.\u001b[0m\u001b[0mformat\u001b[0m\u001b[0;34m(\u001b[0m\u001b[0mnp\u001b[0m\u001b[0;34m.\u001b[0m\u001b[0mmean\u001b[0m\u001b[0;34m(\u001b[0m\u001b[0my_pred\u001b[0m \u001b[0;34m==\u001b[0m \u001b[0my_test\u001b[0m\u001b[0;34m)\u001b[0m\u001b[0;34m)\u001b[0m\u001b[0;34m)\u001b[0m\u001b[0;34m\u001b[0m\u001b[0;34m\u001b[0m\u001b[0m\n\u001b[0m",
            "\u001b[0;31mNameError\u001b[0m: name 'np' is not defined"
          ]
        }
      ]
    },
    {
      "cell_type": "markdown",
      "metadata": {
        "id": "QqVaYAZFPKzk"
      },
      "source": [
        "We can also use the score method of the knn object, which will compute the test set\n",
        "accuracy for us:"
      ]
    },
    {
      "cell_type": "code",
      "metadata": {
        "id": "vzl9l4CWPOBF",
        "outputId": "6dc3cb3c-b9ea-40ba-c60a-2b8c12e1e9d2",
        "colab": {
          "base_uri": "https://localhost:8080/",
          "height": 34
        }
      },
      "source": [
        "print(\"Test set score: {:.2f}\".format(knn.score(X_test, y_test)))"
      ],
      "execution_count": 68,
      "outputs": [
        {
          "output_type": "stream",
          "text": [
            "Test set score: 0.97\n"
          ],
          "name": "stdout"
        }
      ]
    },
    {
      "cell_type": "markdown",
      "metadata": {
        "id": "wAZgNT_bPRHx"
      },
      "source": [
        "For this model, the test set accuracy is about 0.97, which means we made the right\n",
        "prediction for 97% of the irises in the test set. Under some mathematical assump‐\n",
        "tions, this means that we can expect our model to be correct 97% of the time for new\n",
        "irises. For our hobby botanist application, this high level of accuracy means that our\n",
        "model may be trustworthy enough to use. In later chapters we will discuss how we\n",
        "can improve performance, and what caveats there are in tuning a model."
      ]
    },
    {
      "cell_type": "markdown",
      "metadata": {
        "id": "M-tMQk0IPSaj"
      },
      "source": [
        "# Summary and Outlook"
      ]
    },
    {
      "cell_type": "markdown",
      "metadata": {
        "id": "eQoy7Z1_PV7I"
      },
      "source": [
        "The Iris dataset consists of two NumPy arrays: one containing the data, which is\n",
        "referred to as X in scikit-learn, and one containing the correct or desired outputs, which is called y. The array X is a two-dimensional array of features, with one row per\n",
        "data point and one column per feature. The array y is a one-dimensional array, which\n",
        "here contains one class label, an integer ranging from 0 to 2, for each of the samples.\n",
        "\n",
        "We split our dataset into a training set, to build our model, and a *test set*, to evaluate\n",
        "how well our model will generalize to new, previously unseen data.\n",
        "\n",
        "Here is a summary of the code needed for the whole training and evaluation\n",
        "procedure:"
      ]
    },
    {
      "cell_type": "code",
      "metadata": {
        "id": "7Zt0IierPuZr",
        "outputId": "9d47bf42-b96b-41a6-fde0-c24ccc7e3bc5",
        "colab": {
          "base_uri": "https://localhost:8080/",
          "height": 34
        }
      },
      "source": [
        "X_train, X_test, y_train, y_test = train_test_split(\n",
        "iris_dataset['data'], iris_dataset['target'], random_state=0)\n",
        "knn = KNeighborsClassifier(n_neighbors=1)\n",
        "knn.fit(X_train, y_train)\n",
        "print(\"Test set score: {:.2f}\".format(knn.score(X_test, y_test)))"
      ],
      "execution_count": 69,
      "outputs": [
        {
          "output_type": "stream",
          "text": [
            "Test set score: 0.97\n"
          ],
          "name": "stdout"
        }
      ]
    },
    {
      "cell_type": "markdown",
      "metadata": {
        "id": "NKrj3DTIPx8t"
      },
      "source": [
        "This snippet contains the core code for applying any machine learning algorithm\n",
        "using scikit-learn. The fit, predict, and score methods are the common inter‐\n",
        "face to supervised models in scikit-learn, and with the concepts introduced in this\n",
        "chapter, you can apply these models to many machine learning tasks. In the next\n",
        "chapter, we will go into more depth about the different kinds of supervised models in\n",
        "scikit-learn and how to apply them successfully."
      ]
    }
  ]
}